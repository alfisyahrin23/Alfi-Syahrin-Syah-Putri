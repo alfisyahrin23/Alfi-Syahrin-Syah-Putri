{
 "cells": [
  {
   "cell_type": "code",
   "execution_count": 44,
   "id": "047922df",
   "metadata": {},
   "outputs": [],
   "source": [
    "#import gurobi libarary \n",
    "from gurobipy import *"
   ]
  },
  {
   "cell_type": "code",
   "execution_count": 77,
   "id": "35a0a811",
   "metadata": {},
   "outputs": [
    {
     "name": "stdout",
     "output_type": "stream",
     "text": [
      "Set parameter NonConvex to value 2\n"
     ]
    }
   ],
   "source": [
    "#create Sustsianbility Model \n",
    "f=Model(\"Sustainability\")\n",
    "f.params.NonConvex = 2"
   ]
  },
  {
   "cell_type": "code",
   "execution_count": 78,
   "id": "eadb010a",
   "metadata": {},
   "outputs": [],
   "source": [
    "#create variable \n",
    "x1=f.addVar(name=\"durasi\")\n",
    "x2=f.addVar(name=\"rasio_batu\")\n",
    "x3=f.addVar(name=\"rasio_air\")\n",
    "x4=f.addVar(name=\"rasio_enzim\")\n",
    "x5=f.addVar(name=\"rasio_acid\")\n",
    "x6=f.addVar(name=\"ukuran_batu\")\n",
    "x7=f.addVar(name=\"cyclic_timer\")\n",
    "Q=f.addVar(name=\"quantity\")\n",
    "z=f.addVar(name=\"cont\")\n",
    "x34=f.addVar(name=\"x3*x4\")\n",
    "x35=f.addVar(name=\"x3*x5\")"
   ]
  },
  {
   "cell_type": "code",
   "execution_count": 79,
   "id": "f01a7c4f",
   "metadata": {},
   "outputs": [],
   "source": [
    "#set objective \n",
    "f.setObjective(x2,GRB.MINIMIZE)"
   ]
  },
  {
   "cell_type": "code",
   "execution_count": 80,
   "id": "a8cc3749",
   "metadata": {},
   "outputs": [
    {
     "data": {
      "text/plain": [
       "<gurobi.Constr *Awaiting Model Update*>"
      ]
     },
     "execution_count": 80,
     "metadata": {},
     "output_type": "execute_result"
    }
   ],
   "source": [
    "#set constraints Lingkungan\n",
    "f.addConstr(0.1885+0.004125*x1+0.01940*x2+64.9*x4+0.02*x5<=0.6176,\"lingkungan\")"
   ]
  },
  {
   "cell_type": "code",
   "execution_count": 81,
   "id": "c5d70c5c",
   "metadata": {},
   "outputs": [
    {
     "data": {
      "text/plain": [
       "<gurobi.Constr *Awaiting Model Update*>"
      ]
     },
     "execution_count": 81,
     "metadata": {},
     "output_type": "execute_result"
    }
   ],
   "source": [
    "#set constraints Kualitas\n",
    "f.addConstr(1775+2.929*x1>=637.6,\"lusi\")\n",
    "f.addConstr(4670.1-7.38*x3-58583*x4+0.288*x7>=269.8,\"pakan\")\n",
    "f.addConstr(0.218+0.07131*x1+0.2007*x2-0.0859*x3+0.00703*x7>=2.49,\"bobot_visual\")"
   ]
  },
  {
   "cell_type": "code",
   "execution_count": 82,
   "id": "1e324caf",
   "metadata": {},
   "outputs": [
    {
     "data": {
      "text/plain": [
       "<gurobi.TempConstr: 0.0 + [ <gurobi.Var *Awaiting Model Update*> * <gurobi.Var *Awaiting Model Update*> ] == 1>"
      ]
     },
     "execution_count": 82,
     "metadata": {},
     "output_type": "execute_result"
    }
   ],
   "source": [
    "z*Q==1"
   ]
  },
  {
   "cell_type": "code",
   "execution_count": 87,
   "id": "cd45ab41",
   "metadata": {},
   "outputs": [
    {
     "data": {
      "text/plain": [
       "<gurobi.QConstr Not Yet Added>"
      ]
     },
     "execution_count": 87,
     "metadata": {},
     "output_type": "execute_result"
    }
   ],
   "source": [
    "#set constraints Ekonomi \n",
    "f.addConstr(z*((x1*359.104)+(x2*30670.926)+(x3*4.623)+(x34*4394029.850)+(x35*2865671.641))<=4325.44,\"ekonomi\")"
   ]
  },
  {
   "cell_type": "code",
   "execution_count": 96,
   "id": "1672c15f",
   "metadata": {},
   "outputs": [
    {
     "data": {
      "text/plain": [
       "<gurobi.Constr *Awaiting Model Update*>"
      ]
     },
     "execution_count": 96,
     "metadata": {},
     "output_type": "execute_result"
    }
   ],
   "source": [
    "#set constraints Teknis\n",
    "f.addConstr(Q>=40,\"kuantitas\")\n",
    "f.addConstr(0.6*Q*(1+x2+x3)<=400,\"beban_mesin\")\n",
    "f.addConstr(x1>=30,\"durasi_min\")\n",
    "f.addConstr(x1<=45,\"durasi_max\")\n",
    "f.addConstr(x2>=2.08,\"rasio_batu_min\")\n",
    "f.addConstr(x2<=3.13,\"rasio_batu_max\")\n",
    "f.addConstr(x3>=10,\"rasio_air_min\")\n",
    "f.addConstr(x3<=12.5,\"rasio_air_max\")\n",
    "f.addConstr(x4>=0.0005,\"rasio_enzim_min\")\n",
    "f.addConstr(x4<=0.00067,\"rasio_enzim_max\")\n",
    "f.addConstr(x34>=0.005,\"x34_min\")\n",
    "f.addConstr(x34<=0.008375,\"x34_max\")\n",
    "f.addConstr(x5>=0.00036,\"rasio_acid_min\")\n",
    "f.addConstr(x5<=0.00067,\"rasio_acid_max\")\n",
    "f.addConstr(x35>=0.0036,\"x35_min\")\n",
    "f.addConstr(x35<=0.008375,\"x35_max\")\n",
    "f.addConstr(x7>=30,\"timer_min\")\n",
    "f.addConstr(x7<=60,\"timer_max\")"
   ]
  },
  {
   "cell_type": "code",
   "execution_count": 95,
   "id": "229f2d53",
   "metadata": {},
   "outputs": [
    {
     "data": {
      "text/plain": [
       "0.008375"
      ]
     },
     "execution_count": 95,
     "metadata": {},
     "output_type": "execute_result"
    }
   ],
   "source": [
    "12.5*0.00067"
   ]
  },
  {
   "cell_type": "code",
   "execution_count": 97,
   "id": "0ff17a5e",
   "metadata": {
    "scrolled": true
   },
   "outputs": [
    {
     "name": "stdout",
     "output_type": "stream",
     "text": [
      "Gurobi Optimizer version 10.0.0 build v10.0.0rc2 (win64)\n",
      "\n",
      "CPU model: AMD Ryzen 5 3500U with Radeon Vega Mobile Gfx, instruction set [SSE2|AVX|AVX2]\n",
      "Thread count: 4 physical cores, 8 logical processors, using up to 8 threads\n",
      "\n",
      "Optimize a model with 74 rows, 11 columns and 82 nonzeros\n",
      "Model fingerprint: 0x534fa73f\n",
      "Model has 7 quadratic constraints\n",
      "Coefficient statistics:\n",
      "  Matrix range     [4e-03, 6e+04]\n",
      "  QMatrix range    [6e-01, 4e+06]\n",
      "  QLMatrix range   [6e-01, 6e-01]\n",
      "  Objective range  [1e+00, 1e+00]\n",
      "  Bounds range     [0e+00, 0e+00]\n",
      "  RHS range        [4e-04, 4e+03]\n",
      "  QRHS range       [4e+02, 4e+03]\n",
      "Presolve removed 73 rows and 4 columns\n",
      "\n",
      "Continuous model is non-convex -- solving as a MIP\n",
      "\n",
      "\n",
      "MIP start from previous solve produced solution with objective 2.08 (0.02s)\n",
      "Loaded MIP start from previous solve with objective 2.08\n",
      "\n",
      "Presolve removed 73 rows and 4 columns\n",
      "Presolve time: 0.01s\n",
      "Presolved: 18 rows, 14 columns, 53 nonzeros\n",
      "Presolved model has 7 bilinear constraint(s)\n",
      "Variable types: 14 continuous, 0 integer (0 binary)\n",
      "\n",
      "Explored 0 nodes (0 simplex iterations) in 0.10 seconds (0.00 work units)\n",
      "Thread count was 8 (of 8 available processors)\n",
      "\n",
      "Solution count 1: 2.08 \n",
      "\n",
      "Optimal solution found (tolerance 1.00e-04)\n",
      "Best objective 2.080000000000e+00, best bound 2.080000000000e+00, gap 0.0000%\n"
     ]
    }
   ],
   "source": [
    "f.optimize()"
   ]
  },
  {
   "cell_type": "code",
   "execution_count": 98,
   "id": "c07836b1",
   "metadata": {},
   "outputs": [
    {
     "name": "stdout",
     "output_type": "stream",
     "text": [
      "durasi 45.0\n",
      "rasio_batu 2.0799999999999983\n",
      "rasio_air 10.0\n",
      "rasio_enzim 0.0005\n",
      "rasio_acid 0.00036\n",
      "ukuran_batu 0.0\n",
      "cyclic_timer 60.0\n",
      "quantity 40.0\n",
      "cont 0.0\n",
      "x3*x4 0.005\n",
      "x3*x5 0.0036\n"
     ]
    }
   ],
   "source": [
    "#Print values for decision variables\n",
    "for v in f.getVars():\n",
    "    print(v.varName, v.x)"
   ]
  },
  {
   "cell_type": "code",
   "execution_count": 100,
   "id": "ac6deadd",
   "metadata": {},
   "outputs": [
    {
     "name": "stdout",
     "output_type": "stream",
     "text": [
      "Minimize waste 2.0799999999999983\n"
     ]
    }
   ],
   "source": [
    "#Print maximized profit value\n",
    "print('Minimize waste',  f.objVal)"
   ]
  }
 ],
 "metadata": {
  "kernelspec": {
   "display_name": "Python 3 (ipykernel)",
   "language": "python",
   "name": "python3"
  },
  "language_info": {
   "codemirror_mode": {
    "name": "ipython",
    "version": 3
   },
   "file_extension": ".py",
   "mimetype": "text/x-python",
   "name": "python",
   "nbconvert_exporter": "python",
   "pygments_lexer": "ipython3",
   "version": "3.9.13"
  }
 },
 "nbformat": 4,
 "nbformat_minor": 5
}
